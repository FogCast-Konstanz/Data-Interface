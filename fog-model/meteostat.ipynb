{
 "cells": [
  {
   "cell_type": "code",
   "execution_count": 1,
   "id": "62dbce6e",
   "metadata": {},
   "outputs": [
    {
     "data": {
      "text/html": [
       "<div>\n",
       "<style scoped>\n",
       "    .dataframe tbody tr th:only-of-type {\n",
       "        vertical-align: middle;\n",
       "    }\n",
       "\n",
       "    .dataframe tbody tr th {\n",
       "        vertical-align: top;\n",
       "    }\n",
       "\n",
       "    .dataframe thead th {\n",
       "        text-align: right;\n",
       "    }\n",
       "</style>\n",
       "<table border=\"1\" class=\"dataframe\">\n",
       "  <thead>\n",
       "    <tr style=\"text-align: right;\">\n",
       "      <th></th>\n",
       "      <th>name</th>\n",
       "      <th>country</th>\n",
       "      <th>region</th>\n",
       "      <th>wmo</th>\n",
       "      <th>icao</th>\n",
       "      <th>latitude</th>\n",
       "      <th>longitude</th>\n",
       "      <th>elevation</th>\n",
       "      <th>timezone</th>\n",
       "      <th>hourly_start</th>\n",
       "      <th>hourly_end</th>\n",
       "      <th>daily_start</th>\n",
       "      <th>daily_end</th>\n",
       "      <th>monthly_start</th>\n",
       "      <th>monthly_end</th>\n",
       "      <th>distance</th>\n",
       "    </tr>\n",
       "    <tr>\n",
       "      <th>id</th>\n",
       "      <th></th>\n",
       "      <th></th>\n",
       "      <th></th>\n",
       "      <th></th>\n",
       "      <th></th>\n",
       "      <th></th>\n",
       "      <th></th>\n",
       "      <th></th>\n",
       "      <th></th>\n",
       "      <th></th>\n",
       "      <th></th>\n",
       "      <th></th>\n",
       "      <th></th>\n",
       "      <th></th>\n",
       "      <th></th>\n",
       "      <th></th>\n",
       "    </tr>\n",
       "  </thead>\n",
       "  <tbody>\n",
       "    <tr>\n",
       "      <th>10929</th>\n",
       "      <td>Konstanz</td>\n",
       "      <td>DE</td>\n",
       "      <td>BW</td>\n",
       "      <td>10929</td>\n",
       "      <td>EDTZ</td>\n",
       "      <td>47.6833</td>\n",
       "      <td>9.1833</td>\n",
       "      <td>443.0</td>\n",
       "      <td>Europe/Berlin</td>\n",
       "      <td>1936-01-02</td>\n",
       "      <td>2025-05-03</td>\n",
       "      <td>1941-01-01</td>\n",
       "      <td>2025-05-01</td>\n",
       "      <td>1941-01-01</td>\n",
       "      <td>2022-01-01</td>\n",
       "      <td>4153.572119</td>\n",
       "    </tr>\n",
       "  </tbody>\n",
       "</table>\n",
       "</div>"
      ],
      "text/plain": [
       "           name country region    wmo  icao  latitude  longitude  elevation  \\\n",
       "id                                                                            \n",
       "10929  Konstanz      DE     BW  10929  EDTZ   47.6833     9.1833      443.0   \n",
       "\n",
       "            timezone hourly_start hourly_end daily_start  daily_end  \\\n",
       "id                                                                    \n",
       "10929  Europe/Berlin   1936-01-02 2025-05-03  1941-01-01 2025-05-01   \n",
       "\n",
       "      monthly_start monthly_end     distance  \n",
       "id                                            \n",
       "10929    1941-01-01  2022-01-01  4153.572119  "
      ]
     },
     "execution_count": 1,
     "metadata": {},
     "output_type": "execute_result"
    }
   ],
   "source": [
    "# Import Meteostat library\n",
    "from meteostat import Stations\n",
    "\n",
    "# Get nearby weather stations\n",
    "stations = Stations()\n",
    "stations = stations.nearby(47.6952, 9.1307)\n",
    "station = stations.fetch(1)\n",
    "\n",
    "# Print DataFrame\n",
    "station"
   ]
  },
  {
   "cell_type": "code",
   "execution_count": 19,
   "id": "044fc70d",
   "metadata": {
    "vscode": {
     "languageId": "bat"
    }
   },
   "outputs": [
    {
     "name": "stdout",
     "output_type": "stream",
     "text": [
      "  % Total    % Received % Xferd  Average Speed   Time    Time     Time  Current\n",
      "                                 Dload  Upload   Total   Spent    Left  Speed\n",
      "100 5878k  100 5878k    0     0  2198k      0  0:00:02  0:00:02 --:--:-- 2198k\n"
     ]
    }
   ],
   "source": [
    "!curl \"https://bulk.meteostat.net/v2/hourly/10929.csv.gz\" --output \"meteostat_kn.csv.gz\""
   ]
  },
  {
   "cell_type": "code",
   "execution_count": 22,
   "id": "14553f65",
   "metadata": {
    "vscode": {
     "languageId": "bat"
    }
   },
   "outputs": [],
   "source": [
    "!gunzip -f -k \"meteostat_kn.csv.gz\""
   ]
  }
 ],
 "metadata": {
  "kernelspec": {
   "display_name": "fogcast",
   "language": "python",
   "name": "python3"
  },
  "language_info": {
   "codemirror_mode": {
    "name": "ipython",
    "version": 3
   },
   "file_extension": ".py",
   "mimetype": "text/x-python",
   "name": "python",
   "nbconvert_exporter": "python",
   "pygments_lexer": "ipython3",
   "version": "3.12.9"
  }
 },
 "nbformat": 4,
 "nbformat_minor": 5
}
