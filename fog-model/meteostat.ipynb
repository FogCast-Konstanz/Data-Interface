{
 "cells": [
  {
   "cell_type": "code",
   "execution_count": null,
   "id": "62dbce6e",
   "metadata": {},
   "outputs": [],
   "source": [
    "# Import Meteostat library\n",
    "from meteostat import Stations\n",
    "\n",
    "# Get nearby weather stations\n",
    "stations = Stations()\n",
    "stations = stations.nearby(47.6952, 9.1307)\n",
    "station = stations.fetch(1)\n",
    "\n",
    "# Print DataFrame\n",
    "station"
   ]
  },
  {
   "cell_type": "code",
   "execution_count": null,
   "id": "044fc70d",
   "metadata": {
    "vscode": {
     "languageId": "bat"
    }
   },
   "outputs": [],
   "source": [
    "!curl \"https://bulk.meteostat.net/v2/hourly/10929.csv.gz\" --output \"meteostat_kn.csv.gz\""
   ]
  },
  {
   "cell_type": "code",
   "execution_count": null,
   "id": "14553f65",
   "metadata": {
    "vscode": {
     "languageId": "bat"
    }
   },
   "outputs": [],
   "source": [
    "!gunzip -f -k \"meteostat_kn.csv.gz\""
   ]
  }
 ],
 "metadata": {
  "kernelspec": {
   "display_name": "fogcast",
   "language": "python",
   "name": "python3"
  },
  "language_info": {
   "codemirror_mode": {
    "name": "ipython",
    "version": 3
   },
   "file_extension": ".py",
   "mimetype": "text/x-python",
   "name": "python",
   "nbconvert_exporter": "python",
   "pygments_lexer": "ipython3",
   "version": "3.12.9"
  }
 },
 "nbformat": 4,
 "nbformat_minor": 5
}
