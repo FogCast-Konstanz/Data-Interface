{
 "cells": [
  {
   "cell_type": "markdown",
   "metadata": {},
   "source": [
    "## Forecast Data"
   ]
  },
  {
   "cell_type": "code",
   "execution_count": null,
   "metadata": {
    "ExecuteTime": {
     "end_time": "2025-03-09T16:06:09.918648Z",
     "start_time": "2025-03-09T16:06:09.428998Z"
    }
   },
   "outputs": [],
   "source": [
    "%pip install requests"
   ]
  },
  {
   "cell_type": "code",
   "execution_count": null,
   "metadata": {
    "ExecuteTime": {
     "end_time": "2025-03-09T16:06:12.174265Z",
     "start_time": "2025-03-09T16:06:12.170720Z"
    }
   },
   "outputs": [],
   "source": [
    "base_url = \"http://localhost:8080/\""
   ]
  },
  {
   "cell_type": "code",
   "execution_count": null,
   "metadata": {
    "ExecuteTime": {
     "end_time": "2025-03-09T16:06:15.280153Z",
     "start_time": "2025-03-09T16:06:13.748142Z"
    }
   },
   "outputs": [],
   "source": [
    "from os import path\n",
    "\n",
    "import pandas as pd\n",
    "import requests\n",
    "\n",
    "url = base_url + \"forecasts\"\n",
    "params = {\n",
    "    \"datetime\": \"2025-01-10T10:00:00Z\",\n",
    "    \"model_id\": \"icon_global\"\n",
    "}\n",
    "\n",
    "response = requests.get(url, params=params)\n",
    "weather_json = response.json()\n",
    "df = pd.DataFrame(weather_json)"
   ]
  },
  {
   "cell_type": "markdown",
   "metadata": {},
   "source": [
    "## Actual data from DWD"
   ]
  },
  {
   "cell_type": "markdown",
   "metadata": {},
   "source": [
    "Request live data"
   ]
  },
  {
   "cell_type": "code",
   "execution_count": null,
   "metadata": {
    "ExecuteTime": {
     "end_time": "2025-03-09T16:06:19.536003Z",
     "start_time": "2025-03-09T16:06:18.765721Z"
    }
   },
   "outputs": [],
   "source": [
    "import requests\n",
    "import pandas as pd\n",
    "\n",
    "url = base_url + \"actual/live-data\"\n",
    "response = requests.get(url)\n",
    "weather_json = response.json()\n",
    "pd.DataFrame(weather_json)"
   ]
  },
  {
   "cell_type": "markdown",
   "metadata": {},
   "source": [
    "request historical temperature measurements"
   ]
  },
  {
   "cell_type": "code",
   "execution_count": null,
   "metadata": {
    "ExecuteTime": {
     "end_time": "2025-03-09T16:06:23.185907Z",
     "start_time": "2025-03-09T16:06:22.987730Z"
    }
   },
   "outputs": [],
   "source": [
    "import requests\n",
    "import pandas as pd\n",
    "\n",
    "url = base_url + \"actual/temperature-history\"\n",
    "params = {\n",
    "    \"start\": \"2025-02-01 00:00:00\",\n",
    "    \"stop\": \"2025-02-14 00:00:00\",\n",
    "    \"frequency\": \"daily\"\n",
    "}\n",
    "\n",
    "response = requests.get(url, params=params)\n",
    "weather_json = response.json()\n",
    "weather_df = pd.DataFrame(weather_json)\n",
    "weather_df"
   ]
  },
  {
   "cell_type": "markdown",
   "metadata": {},
   "source": [
    "request historical fog day counts"
   ]
  },
  {
   "cell_type": "code",
   "execution_count": null,
   "metadata": {
    "ExecuteTime": {
     "end_time": "2025-03-09T16:06:26.538452Z",
     "start_time": "2025-03-09T16:06:26.321375Z"
    }
   },
   "outputs": [],
   "source": [
    "import requests\n",
    "import pandas as pd\n",
    "\n",
    "url = base_url + \"actual/fog-count-history\"\n",
    "params = {\n",
    "    \"start\": \"2016-02-01 00:00:00\",\n",
    "    \"stop\": \"2025-02-01 00:00:00\",\n",
    "    \"frequency\": \"monthly\"\n",
    "}\n",
    "\n",
    "response = requests.get(url, params=params)\n",
    "weather_json = response.json()\n",
    "weather_df = pd.DataFrame(weather_json)\n",
    "weather_df"
   ]
  },
  {
   "cell_type": "markdown",
   "metadata": {},
   "source": [
    "Raw request with wetterdienst library"
   ]
  },
  {
   "cell_type": "code",
   "execution_count": null,
   "metadata": {
    "ExecuteTime": {
     "end_time": "2025-03-09T16:06:30.830036Z",
     "start_time": "2025-03-09T16:06:30.056199Z"
    }
   },
   "outputs": [],
   "source": [
    "from wetterdienst import Settings\n",
    "from wetterdienst.provider.dwd.observation import DwdObservationRequest\n",
    "from enum import Enum\n",
    "import datetime\n",
    "\n",
    "\n",
    "class Frequency(Enum):\n",
    "    ten_minutes = \"10_minutes\"\n",
    "    # Documentation for all hourly requests: https://github.com/earthobservations/wetterdienst/blob/276e524975b507c92868bafaf3603f438b04bfcc/docs/data/provider/dwd/observation/hourly.md\n",
    "    hourly = \"hourly\"\n",
    "    # Documentation for all daily requests: https://github.com/earthobservations/wetterdienst/blob/276e524975b507c92868bafaf3603f438b04bfcc/docs/data/provider/dwd/observation/daily.md\n",
    "    daily = \"daily\"\n",
    "    # Documentation for all monthly requests: https://github.com/earthobservations/wetterdienst/blob/276e524975b507c92868bafaf3603f438b04bfcc/docs/data/provider/dwd/observation/monthly.md\n",
    "    monthly = \"monthly\"\n",
    "    # Documentation for all yearly requests: https://github.com/earthobservations/wetterdienst/blob/276e524975b507c92868bafaf3603f438b04bfcc/docs/data/provider/dwd/observation/annual.md\n",
    "    yearly = \"annual\"\n",
    "\n",
    "\n",
    "start = datetime.datetime(2018, 1, 1, 0, 0, 0, 0, datetime.timezone.utc)\n",
    "end = datetime.datetime(2024, 1, 1, 0, 0, 0, 0, datetime.timezone.utc)\n",
    "settings = Settings(ts_shape=\"long\", ts_humanize=True, ts_convert_units=True)\n",
    "\n",
    "request = DwdObservationRequest(parameters=[Frequency.monthly.value, \"weather_phenomena\", \"count_weather_type_fog\"],\n",
    "                                start_date=start,\n",
    "                                end_date=end,\n",
    "                                settings=settings, ).filter_by_station_id(station_id=(2712,))\n",
    "request.values.all()"
   ]
  },
  {
   "cell_type": "markdown",
   "metadata": {},
   "source": [
    "request water level measurements of the last 30 days"
   ]
  },
  {
   "cell_type": "code",
   "execution_count": null,
   "metadata": {
    "ExecuteTime": {
     "end_time": "2025-03-09T16:06:34.321399Z",
     "start_time": "2025-03-09T16:06:33.835743Z"
    }
   },
   "outputs": [],
   "source": [
    "url = base_url + \"actual/water-level-history\"\n",
    "response = requests.get(url)\n",
    "weather_json = response.json()\n",
    "weather_df = pd.DataFrame(weather_json)\n",
    "weather_df"
   ]
  },
  {
   "cell_type": "markdown",
   "metadata": {},
   "source": [
    "# Current forecasts"
   ]
  },
  {
   "cell_type": "code",
   "execution_count": null,
   "metadata": {},
   "outputs": [],
   "source": [
    "from os import path\n",
    "\n",
    "import pandas as pd\n",
    "import requests\n",
    "\n",
    "url = base_url + \"current-forecast\"\n",
    "params = {\n",
    "    \"model_id\": \"icon_global\"\n",
    "}\n",
    "\n",
    "response = requests.get(url, params=params)\n",
    "weather_json = response.json()\n",
    "df = pd.DataFrame(weather_json)\n",
    "df.dropna(axis=0, how='any', inplace=True)\n",
    "df"
   ]
  },
  {
   "cell_type": "code",
   "execution_count": null,
   "metadata": {},
   "outputs": [],
   "source": []
  }
 ],
 "metadata": {
  "kernelspec": {
   "display_name": "venv",
   "language": "python",
   "name": "python3"
  },
  "language_info": {
   "codemirror_mode": {
    "name": "ipython",
    "version": 3
   },
   "file_extension": ".py",
   "mimetype": "text/x-python",
   "name": "python",
   "nbconvert_exporter": "python",
   "pygments_lexer": "ipython3",
   "version": "3.12.9"
  }
 },
 "nbformat": 4,
 "nbformat_minor": 2
}
